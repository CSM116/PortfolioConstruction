{
 "cells": [
  {
   "cell_type": "code",
   "execution_count": 3,
   "metadata": {},
   "outputs": [],
   "source": [
    "import numpy as np\n",
    "import pandas as pd\n",
    "import edhec_risk as erk\n",
    "import matplotlib.pyplot as plt\n",
    "import seaborn as sns\n",
    "\n",
    "%matplotlib inline\n",
    "%load_ext autoreload\n",
    "%autoreload 2"
   ]
  },
  {
   "cell_type": "code",
   "execution_count": 25,
   "metadata": {},
   "outputs": [],
   "source": [
    "# B1 is a 15 Year Bond with a Face Value of $1000 that pays a 5% coupon semi-annually (2 times a year)\n",
    "\n",
    "# B2 is a 5 Year Bond with a Face value of $1000 that pays a 6% coupon quarterly (4 times a year)\n",
    "\n",
    "# B3 is a 10 Year Zero-Coupon Bond with a Face Value of $1000 \n",
    "\n",
    "#(Hint: you can still use the erk.bond_cash_flows() and erk.bond_price() by setting the coupon amount \n",
    "#to 0% and coupons_per_year to 1)  Assume the yield curve is flat at 5%. Duration refers to Macaulay Duration\n",
    "\n",
    "b1 = erk.bond_price(15, 1000, 0.05, 2, 0.05)\n",
    "b2 = erk.bond_price(5, 1000, 0.06, 4, 0.05)\n",
    "b3 = erk.bond_price(10, 1000, 0.0, 1, 0.05)"
   ]
  },
  {
   "cell_type": "code",
   "execution_count": 26,
   "metadata": {},
   "outputs": [],
   "source": [
    "cf_b1 = erk.bond_cash_flows(15, principal=1000, coupon_rate=0.05, coupons_per_year=2)\n",
    "cf_b2 = erk.bond_cash_flows(5, principal=1000, coupon_rate=0.06, coupons_per_year=4)\n",
    "cf_b3 = erk.bond_cash_flows(10, principal=1000, coupon_rate=0.0, coupons_per_year=1)"
   ]
  },
  {
   "cell_type": "code",
   "execution_count": 29,
   "metadata": {},
   "outputs": [
    {
     "data": {
      "text/plain": [
       "(0    1000.0\n",
       " dtype: float64,\n",
       " 0    1043.99829\n",
       " dtype: float64,\n",
       " 0    613.913254\n",
       " dtype: float64)"
      ]
     },
     "execution_count": 29,
     "metadata": {},
     "output_type": "execute_result"
    }
   ],
   "source": [
    "b1,b2,b3"
   ]
  },
  {
   "cell_type": "code",
   "execution_count": 52,
   "metadata": {},
   "outputs": [],
   "source": [
    "disc_b1 = erk.discount(cf_b1.index, 0.05/2)\n",
    "disc_b2 = erk.discount(cf_b1.index, 0.05/4)\n",
    "disc_b3 = erk.discount(cf_b1.index, 0.00/1)"
   ]
  },
  {
   "cell_type": "code",
   "execution_count": null,
   "metadata": {},
   "outputs": [],
   "source": []
  },
  {
   "cell_type": "code",
   "execution_count": 59,
   "metadata": {},
   "outputs": [
    {
     "data": {
      "text/plain": [
       "(21.45354990758024, 17.49345289054565, 10.0)"
      ]
     },
     "execution_count": 59,
     "metadata": {},
     "output_type": "execute_result"
    }
   ],
   "source": [
    "b1_dur = erk.macaulay_duration(cf_b1,0.05/2)\n",
    "b2_dur = erk.macaulay_duration(cf_b2,0.05/4)\n",
    "b3_dur = erk.macaulay_duration(cf_b3,0.05/1)\n",
    "\n",
    "b1_dur, b2_dur, b3_dur"
   ]
  },
  {
   "cell_type": "code",
   "execution_count": 61,
   "metadata": {},
   "outputs": [
    {
     "data": {
      "text/plain": [
       "10.72677495379012"
      ]
     },
     "execution_count": 61,
     "metadata": {},
     "output_type": "execute_result"
    }
   ],
   "source": [
    "21.45354990758024/2"
   ]
  },
  {
   "cell_type": "code",
   "execution_count": 60,
   "metadata": {},
   "outputs": [
    {
     "data": {
      "text/plain": [
       "4.373363222636413"
      ]
     },
     "execution_count": 60,
     "metadata": {},
     "output_type": "execute_result"
    }
   ],
   "source": [
    "17.49345289054565/4"
   ]
  },
  {
   "cell_type": "code",
   "execution_count": null,
   "metadata": {},
   "outputs": [],
   "source": [
    "b1,b2,b3"
   ]
  },
  {
   "cell_type": "code",
   "execution_count": 27,
   "metadata": {},
   "outputs": [
    {
     "data": {
      "text/plain": [
       "(0    1000.0\n",
       " dtype: float64,\n",
       " 0    1043.99829\n",
       " dtype: float64,\n",
       " 0    613.913254\n",
       " dtype: float64)"
      ]
     },
     "execution_count": 27,
     "metadata": {},
     "output_type": "execute_result"
    }
   ],
   "source": [
    "b1,b2,b3"
   ]
  },
  {
   "cell_type": "code",
   "execution_count": 62,
   "metadata": {},
   "outputs": [],
   "source": [
    "liabilities = pd.Series(data=[100000, 200000, 300000], index=[3,5,10])"
   ]
  },
  {
   "cell_type": "code",
   "execution_count": 63,
   "metadata": {},
   "outputs": [
    {
     "data": {
      "text/plain": [
       "3     100000\n",
       "5     200000\n",
       "10    300000\n",
       "dtype: int64"
      ]
     },
     "execution_count": 63,
     "metadata": {},
     "output_type": "execute_result"
    }
   ],
   "source": [
    "liabilities"
   ]
  },
  {
   "cell_type": "code",
   "execution_count": 64,
   "metadata": {},
   "outputs": [
    {
     "data": {
      "text/plain": [
       "0    427262.969209\n",
       "dtype: float64"
      ]
     },
     "execution_count": 64,
     "metadata": {},
     "output_type": "execute_result"
    }
   ],
   "source": [
    "erk.pv(liabilities,0.05)"
   ]
  },
  {
   "cell_type": "code",
   "execution_count": 65,
   "metadata": {},
   "outputs": [
    {
     "data": {
      "text/plain": [
       "6.750917852744651"
      ]
     },
     "execution_count": 65,
     "metadata": {},
     "output_type": "execute_result"
    }
   ],
   "source": [
    "erk.macaulay_duration(liabilities, 0.05)"
   ]
  },
  {
   "cell_type": "code",
   "execution_count": 66,
   "metadata": {},
   "outputs": [],
   "source": [
    "md1_15 = erk.macaulay_duration(cf_b1, 0.05/2)\n",
    "md2_5 = erk.macaulay_duration(cf_b2, 0.05/4)\n",
    "md3_10 = erk.macaulay_duration(cf_b3, 0.05/1)"
   ]
  },
  {
   "cell_type": "code",
   "execution_count": 67,
   "metadata": {},
   "outputs": [
    {
     "data": {
      "text/plain": [
       "(21.45354990758024, 17.49345289054565, 10.0)"
      ]
     },
     "execution_count": 67,
     "metadata": {},
     "output_type": "execute_result"
    }
   ],
   "source": [
    "md1_15,md2_5,md3_10"
   ]
  },
  {
   "cell_type": "code",
   "execution_count": 73,
   "metadata": {},
   "outputs": [],
   "source": [
    "short = erk.bond_cash_flows(15,1000,0.05,2)\n",
    "long = erk.bond_cash_flows(5,1000,0.06,4)\n",
    "ws = erk.match_durations(liabilities,short,long,2,4,0.05)"
   ]
  },
  {
   "cell_type": "code",
   "execution_count": 78,
   "metadata": {},
   "outputs": [
    {
     "data": {
      "text/plain": [
       "0.6257830075060314"
      ]
     },
     "execution_count": 78,
     "metadata": {},
     "output_type": "execute_result"
    }
   ],
   "source": [
    "# 1 2\n",
    "d_t = erk.macaulay_duration(liabilities, 0.05)\n",
    "d_s = erk.macaulay_duration(cf_b2, 0.05/4)/4\n",
    "d_l = erk.macaulay_duration(cf_b1, 0.05/2)/2\n",
    "ws = (d_l - d_t)/(d_l - d_s)\n",
    "ws"
   ]
  },
  {
   "cell_type": "code",
   "execution_count": 79,
   "metadata": {},
   "outputs": [
    {
     "data": {
      "text/plain": [
       "5.470547767656877"
      ]
     },
     "execution_count": 79,
     "metadata": {},
     "output_type": "execute_result"
    }
   ],
   "source": [
    "# 1 3\n",
    "d_t = erk.macaulay_duration(liabilities, 0.05)\n",
    "d_s = erk.macaulay_duration(cf_b3, 0.05/1)/1\n",
    "d_l = erk.macaulay_duration(cf_b1, 0.05/2)/2\n",
    "ws = (d_l - d_t)/(d_l - d_s)\n",
    "ws"
   ]
  },
  {
   "cell_type": "code",
   "execution_count": 80,
   "metadata": {},
   "outputs": [
    {
     "data": {
      "text/plain": [
       "0.5774465770256697"
      ]
     },
     "execution_count": 80,
     "metadata": {},
     "output_type": "execute_result"
    }
   ],
   "source": [
    "# 2 3\n",
    "d_t = erk.macaulay_duration(liabilities, 0.05)\n",
    "d_s = erk.macaulay_duration(cf_b2, 0.05/4)/4\n",
    "d_l = erk.macaulay_duration(cf_b3, 0.05/1)/1\n",
    "ws = (d_l - d_t)/(d_l - d_s)\n",
    "ws"
   ]
  }
 ],
 "metadata": {
  "kernelspec": {
   "display_name": "Python 3",
   "language": "python",
   "name": "python3"
  },
  "language_info": {
   "codemirror_mode": {
    "name": "ipython",
    "version": 3
   },
   "file_extension": ".py",
   "mimetype": "text/x-python",
   "name": "python",
   "nbconvert_exporter": "python",
   "pygments_lexer": "ipython3",
   "version": "3.8.3"
  }
 },
 "nbformat": 4,
 "nbformat_minor": 4
}
