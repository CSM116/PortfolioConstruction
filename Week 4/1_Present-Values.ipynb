{
 "cells": [
  {
   "cell_type": "markdown",
   "id": "0beb9a32",
   "metadata": {},
   "source": [
    "# Present Value of Liabilities and Funding Ratio\n",
    "\n",
    "In this lab session, we'll examine how to discount future liabilities to compute the present value of future liabilities, and measure the funding ratio.\n",
    "\n",
    "The funding ratio is the ratio of the current value of assets to the present value of the liabilities.\n",
    "\n",
    "In order to compute the present value, we need to discount the amount of the liability based on the relevant interest rate derived from the yield curve.\n",
    "\n",
    "For simplicity, we'll assume that the yield curve is flat, and so the interest rate is the same for all horizons.\n",
    "\n",
    "The present value of a set of liabilities $L$ where each liability $L_i$ is due at time $t_i$ is give by:\n",
    "\n",
    "$$ PV(L) = \\sum_{i=1}^{k} B(t_i) L_i$$\n",
    "\n",
    "where $B(t_i)$ is the price of a pure discount bond that pays 1 dollar at time $t_i$\n",
    "\n",
    "If we assume the yield curve is flat and the annual rate of interest is $r$ then $B(t)$ is given by\n",
    "\n",
    "$$B(t) = \\frac{1}{(1+r)^t}$$\n",
    "\n"
   ]
  },
  {
   "cell_type": "code",
   "execution_count": 2,
   "id": "8480fabe",
   "metadata": {},
   "outputs": [],
   "source": [
    "import numpy as np\n",
    "import pandas as pd\n",
    "import edhec_risk as erk\n",
    "\n",
    "%load_ext autoreload\n",
    "%autoreload 2"
   ]
  },
  {
   "cell_type": "code",
   "execution_count": 3,
   "id": "ae5e9db1",
   "metadata": {},
   "outputs": [],
   "source": [
    "def discount(t, r):\n",
    "    \"\"\"\n",
    "    Compute the price of a pure discount bond that pays $1 at time t where t is in years and r is the annual interest rate\n",
    "    \"\"\"\n",
    "    return (1+r)**(-t)"
   ]
  },
  {
   "cell_type": "code",
   "execution_count": 4,
   "id": "9fa02f76",
   "metadata": {},
   "outputs": [
    {
     "data": {
      "text/plain": [
       "0.7440939148967249"
      ]
     },
     "execution_count": 4,
     "metadata": {},
     "output_type": "execute_result"
    }
   ],
   "source": [
    "b = discount(10, .03)\n",
    "b"
   ]
  },
  {
   "cell_type": "markdown",
   "id": "09ecf548",
   "metadata": {},
   "source": [
    "You can verify that if you buy that bond today, and hold it for 10 years at an interest rate of 3 percent per year, we will get paid \\$1"
   ]
  },
  {
   "cell_type": "code",
   "execution_count": 5,
   "id": "32d0ef28",
   "metadata": {},
   "outputs": [
    {
     "data": {
      "text/plain": [
       "1.0"
      ]
     },
     "execution_count": 5,
     "metadata": {},
     "output_type": "execute_result"
    }
   ],
   "source": [
    "b*(1.03**10)"
   ]
  },
  {
   "cell_type": "code",
   "execution_count": 6,
   "id": "987d706a",
   "metadata": {},
   "outputs": [],
   "source": [
    "def pv(l, r):\n",
    "    \"\"\"\n",
    "    Compute the present value of a list of liabilities given by the time (as an index) and amounts\n",
    "    l is indexed by time, and the values are the amounts of each liability\n",
    "    returns the present value of the sequence\n",
    "    \"\"\"\n",
    "    dates = l.index\n",
    "    discounts = discount(dates, r)\n",
    "    return (discounts*l).sum()"
   ]
  },
  {
   "cell_type": "markdown",
   "id": "2db29129",
   "metadata": {},
   "source": [
    "Assume that you have 4 liabilities, of 1, 1.5, 2, and 2.5M dollars. Assume the first of these are 3 years away and the subsequent ones are spaced out 6 months apart, i.e. at time 3, 3.5, 4 and 4.5 years from now. Let's compute the present value of the liabilities based on an interest rate of 3% per year.\n",
    "\n",
    "In an individual investment context, you can think oif liabilities as Goals, such as saving for Life Events such as a down payment for a house, college expenses for your children, or retirement income. In each of these cases, we have a requirement of a cash flow at some point in the future ... anytime you have a future cash requirement, you can think of it as a liability."
   ]
  },
  {
   "cell_type": "code",
   "execution_count": 7,
   "id": "48dd0dfe",
   "metadata": {},
   "outputs": [],
   "source": [
    "liabilities = pd.Series(data=[1, 1.5, 2, 2.5], index=[3, 3.5, 4, 4.5])"
   ]
  },
  {
   "cell_type": "code",
   "execution_count": 8,
   "id": "4a2e6094",
   "metadata": {},
   "outputs": [
    {
     "data": {
      "text/plain": [
       "6.233320315080045"
      ]
     },
     "execution_count": 8,
     "metadata": {},
     "output_type": "execute_result"
    }
   ],
   "source": [
    "pv(liabilities, 0.03)"
   ]
  },
  {
   "cell_type": "markdown",
   "id": "a6b994cd",
   "metadata": {},
   "source": [
    "We can now compute the funding ratio, based on current asset values:"
   ]
  },
  {
   "cell_type": "code",
   "execution_count": 9,
   "id": "d466480e",
   "metadata": {},
   "outputs": [],
   "source": [
    "def funding_ratio(assets, liabilities, r):\n",
    "    \"\"\"\n",
    "    Computes the funding ratio of a series of liabilities, based on an interest rate and current value of assets\n",
    "    \"\"\"\n",
    "    return assets/pv(liabilities, r)\n"
   ]
  },
  {
   "cell_type": "code",
   "execution_count": 10,
   "id": "63ab24ed",
   "metadata": {},
   "outputs": [
    {
     "data": {
      "text/plain": [
       "0.8021407126958777"
      ]
     },
     "execution_count": 10,
     "metadata": {},
     "output_type": "execute_result"
    }
   ],
   "source": [
    "funding_ratio(5, liabilities, 0.03)"
   ]
  },
  {
   "cell_type": "markdown",
   "id": "cfb32304",
   "metadata": {},
   "source": [
    "Now assume interest rates go down to 2% ... let's recompute the funding ratio:"
   ]
  },
  {
   "cell_type": "code",
   "execution_count": 11,
   "id": "8c1c445e",
   "metadata": {},
   "outputs": [
    {
     "data": {
      "text/plain": [
       "0.7720304366941648"
      ]
     },
     "execution_count": 11,
     "metadata": {},
     "output_type": "execute_result"
    }
   ],
   "source": [
    "funding_ratio(5, liabilities, 0.02)"
   ]
  },
  {
   "cell_type": "markdown",
   "id": "1a47e1fb",
   "metadata": {},
   "source": [
    "We can examine the effect of interest rates on funding ratio:\n",
    "\n",
    "Recall that our liabilities are:"
   ]
  },
  {
   "cell_type": "code",
   "execution_count": 12,
   "id": "db038419",
   "metadata": {},
   "outputs": [
    {
     "data": {
      "text/plain": [
       "3.0    1.0\n",
       "3.5    1.5\n",
       "4.0    2.0\n",
       "4.5    2.5\n",
       "dtype: float64"
      ]
     },
     "execution_count": 12,
     "metadata": {},
     "output_type": "execute_result"
    }
   ],
   "source": [
    "liabilities"
   ]
  },
  {
   "cell_type": "code",
   "execution_count": 14,
   "id": "c972116b",
   "metadata": {},
   "outputs": [
    {
     "data": {
      "application/vnd.jupyter.widget-view+json": {
       "model_id": "431b3c032c254a32a9a8f7f323dd1560",
       "version_major": 2,
       "version_minor": 0
      },
      "text/plain": [
       "interactive(children=(IntSlider(value=5, description='assets', max=10, min=1), FloatSlider(value=0.1, descript…"
      ]
     },
     "metadata": {},
     "output_type": "display_data"
    }
   ],
   "source": [
    "import ipywidgets as widgets\n",
    "from IPython.display import display\n",
    "%matplotlib inline\n",
    "\n",
    "def show_funding_ratio(assets, r):\n",
    "    fr = funding_ratio(assets, liabilities, r)\n",
    "    print(f'{fr*100:.2f}%')\n",
    "    \n",
    "controls = widgets.interactive(show_funding_ratio,\n",
    "                                   assets=widgets.IntSlider(min=1, max=10, step=1, value=5),\n",
    "                                   r=(0, .20, .01)\n",
    ")\n",
    "display(controls)"
   ]
  },
  {
   "cell_type": "markdown",
   "id": "593880f7",
   "metadata": {},
   "source": [
    "As the illustration above shows, even if your assets do not go down in value, cash can be a risky asset if you think about the funding ratio rather than the asset value. Even though cash is a \"safe asset\" in the sense that the asset value does not go down, cash can be a very risky asset because the value of the liabilities goes up when interest rates go down. Therefore, if you think about your savings in terms of funding ratio (i.e. how much money do you have compared to what you need) then cash is a risky asset and can result in a decline in your funding ratio.\n",
    "\n",
    "We'll investigate this and solutions to this in the next session, but for now, add the `discount`, `pv`, and `funding_ratio` functions to the `edhec_risk_kit.py` file.\n",
    "\n",
    "```python\n",
    "def discount(t, r):\n",
    "    \"\"\"\n",
    "    Compute the price of a pure discount bond that pays a dollar at time t where t is in years and r is the annual interest rate\n",
    "    \"\"\"\n",
    "    return (1+r)**(-t)\n",
    "\n",
    "def pv(l, r):\n",
    "    \"\"\"\n",
    "    Compute the present value of a list of liabilities given by the time (as an index) and amounts\n",
    "    \"\"\"\n",
    "    dates = l.index\n",
    "    discounts = discount(dates, r)\n",
    "    return (discounts*l).sum()\n",
    "\n",
    "def funding_ratio(assets, liabilities, r):\n",
    "    \"\"\"\n",
    "    Computes the funding ratio of a series of liabilities, based on an interest rate and current value of assets\n",
    "    \"\"\"\n",
    "    return assets/pv(liabilities, r)\n",
    "```\n"
   ]
  },
  {
   "cell_type": "code",
   "execution_count": null,
   "id": "99b15c61",
   "metadata": {},
   "outputs": [],
   "source": []
  },
  {
   "cell_type": "code",
   "execution_count": null,
   "id": "238d0b79",
   "metadata": {},
   "outputs": [],
   "source": []
  },
  {
   "cell_type": "code",
   "execution_count": null,
   "id": "693a9c70",
   "metadata": {},
   "outputs": [],
   "source": []
  },
  {
   "cell_type": "code",
   "execution_count": null,
   "id": "df0dc308",
   "metadata": {},
   "outputs": [],
   "source": []
  },
  {
   "cell_type": "code",
   "execution_count": null,
   "id": "a168d755",
   "metadata": {},
   "outputs": [],
   "source": []
  }
 ],
 "metadata": {
  "kernelspec": {
   "display_name": "Python 3 (ipykernel)",
   "language": "python",
   "name": "python3"
  },
  "language_info": {
   "codemirror_mode": {
    "name": "ipython",
    "version": 3
   },
   "file_extension": ".py",
   "mimetype": "text/x-python",
   "name": "python",
   "nbconvert_exporter": "python",
   "pygments_lexer": "ipython3",
   "version": "3.7.4"
  }
 },
 "nbformat": 4,
 "nbformat_minor": 5
}
